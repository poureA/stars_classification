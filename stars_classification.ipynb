{
 "cells": [
  {
   "cell_type": "code",
   "execution_count": 235,
   "id": "20a957d7",
   "metadata": {},
   "outputs": [],
   "source": [
    "import pandas as pd"
   ]
  },
  {
   "cell_type": "code",
   "execution_count": 236,
   "id": "47a425e2",
   "metadata": {},
   "outputs": [
    {
     "data": {
      "text/html": [
       "<div>\n",
       "<style scoped>\n",
       "    .dataframe tbody tr th:only-of-type {\n",
       "        vertical-align: middle;\n",
       "    }\n",
       "\n",
       "    .dataframe tbody tr th {\n",
       "        vertical-align: top;\n",
       "    }\n",
       "\n",
       "    .dataframe thead th {\n",
       "        text-align: right;\n",
       "    }\n",
       "</style>\n",
       "<table border=\"1\" class=\"dataframe\">\n",
       "  <thead>\n",
       "    <tr style=\"text-align: right;\">\n",
       "      <th></th>\n",
       "      <th>Vmag</th>\n",
       "      <th>Plx</th>\n",
       "      <th>e_Plx</th>\n",
       "      <th>B-V</th>\n",
       "      <th>SpType</th>\n",
       "      <th>Amag</th>\n",
       "      <th>TargetClass</th>\n",
       "    </tr>\n",
       "  </thead>\n",
       "  <tbody>\n",
       "    <tr>\n",
       "      <th>3201</th>\n",
       "      <td>8.79</td>\n",
       "      <td>0.21</td>\n",
       "      <td>1.39</td>\n",
       "      <td>1.161</td>\n",
       "      <td>K1III</td>\n",
       "      <td>10.401096</td>\n",
       "      <td>0</td>\n",
       "    </tr>\n",
       "    <tr>\n",
       "      <th>424</th>\n",
       "      <td>6.69</td>\n",
       "      <td>7.47</td>\n",
       "      <td>0.81</td>\n",
       "      <td>0.999</td>\n",
       "      <td>K0III</td>\n",
       "      <td>16.056602</td>\n",
       "      <td>0</td>\n",
       "    </tr>\n",
       "    <tr>\n",
       "      <th>892</th>\n",
       "      <td>4.34</td>\n",
       "      <td>19.34</td>\n",
       "      <td>0.76</td>\n",
       "      <td>0.871</td>\n",
       "      <td>G5III...</td>\n",
       "      <td>15.772284</td>\n",
       "      <td>0</td>\n",
       "    </tr>\n",
       "    <tr>\n",
       "      <th>1992</th>\n",
       "      <td>8.50</td>\n",
       "      <td>6.69</td>\n",
       "      <td>0.80</td>\n",
       "      <td>0.447</td>\n",
       "      <td>F3V</td>\n",
       "      <td>17.627130</td>\n",
       "      <td>1</td>\n",
       "    </tr>\n",
       "    <tr>\n",
       "      <th>1959</th>\n",
       "      <td>8.83</td>\n",
       "      <td>5.64</td>\n",
       "      <td>1.05</td>\n",
       "      <td>0.468</td>\n",
       "      <td>F3/F5V</td>\n",
       "      <td>17.586395</td>\n",
       "      <td>1</td>\n",
       "    </tr>\n",
       "    <tr>\n",
       "      <th>2144</th>\n",
       "      <td>8.02</td>\n",
       "      <td>4.40</td>\n",
       "      <td>0.86</td>\n",
       "      <td>0.970</td>\n",
       "      <td>G4III</td>\n",
       "      <td>16.237263</td>\n",
       "      <td>0</td>\n",
       "    </tr>\n",
       "    <tr>\n",
       "      <th>590</th>\n",
       "      <td>8.42</td>\n",
       "      <td>4.14</td>\n",
       "      <td>1.05</td>\n",
       "      <td>1.005</td>\n",
       "      <td>G8III</td>\n",
       "      <td>16.505001</td>\n",
       "      <td>0</td>\n",
       "    </tr>\n",
       "    <tr>\n",
       "      <th>491</th>\n",
       "      <td>8.75</td>\n",
       "      <td>2.49</td>\n",
       "      <td>0.83</td>\n",
       "      <td>1.252</td>\n",
       "      <td>K2IIICN...</td>\n",
       "      <td>15.730997</td>\n",
       "      <td>0</td>\n",
       "    </tr>\n",
       "    <tr>\n",
       "      <th>2052</th>\n",
       "      <td>12.04</td>\n",
       "      <td>27.77</td>\n",
       "      <td>3.55</td>\n",
       "      <td>1.453</td>\n",
       "      <td>M2V:</td>\n",
       "      <td>24.257880</td>\n",
       "      <td>1</td>\n",
       "    </tr>\n",
       "    <tr>\n",
       "      <th>640</th>\n",
       "      <td>8.21</td>\n",
       "      <td>1.97</td>\n",
       "      <td>0.98</td>\n",
       "      <td>1.557</td>\n",
       "      <td>K5III</td>\n",
       "      <td>14.682331</td>\n",
       "      <td>0</td>\n",
       "    </tr>\n",
       "  </tbody>\n",
       "</table>\n",
       "</div>"
      ],
      "text/plain": [
       "       Vmag    Plx  e_Plx    B-V      SpType       Amag  TargetClass\n",
       "3201   8.79   0.21   1.39  1.161       K1III  10.401096            0\n",
       "424    6.69   7.47   0.81  0.999       K0III  16.056602            0\n",
       "892    4.34  19.34   0.76  0.871    G5III...  15.772284            0\n",
       "1992   8.50   6.69   0.80  0.447         F3V  17.627130            1\n",
       "1959   8.83   5.64   1.05  0.468      F3/F5V  17.586395            1\n",
       "2144   8.02   4.40   0.86  0.970       G4III  16.237263            0\n",
       "590    8.42   4.14   1.05  1.005       G8III  16.505001            0\n",
       "491    8.75   2.49   0.83  1.252  K2IIICN...  15.730997            0\n",
       "2052  12.04  27.77   3.55  1.453        M2V:  24.257880            1\n",
       "640    8.21   1.97   0.98  1.557       K5III  14.682331            0"
      ]
     },
     "execution_count": 236,
     "metadata": {},
     "output_type": "execute_result"
    }
   ],
   "source": [
    "file = pd.read_csv('D:\\\\datasets\\\\Star3642_balanced.csv')\n",
    "df = file.copy()\n",
    "df.sample(10)"
   ]
  },
  {
   "cell_type": "code",
   "execution_count": 237,
   "id": "1217ca0e",
   "metadata": {},
   "outputs": [
    {
     "name": "stdout",
     "output_type": "stream",
     "text": [
      "<class 'pandas.core.frame.DataFrame'>\n",
      "RangeIndex: 3642 entries, 0 to 3641\n",
      "Data columns (total 7 columns):\n",
      " #   Column       Non-Null Count  Dtype  \n",
      "---  ------       --------------  -----  \n",
      " 0   Vmag         3642 non-null   float64\n",
      " 1   Plx          3642 non-null   float64\n",
      " 2   e_Plx        3642 non-null   float64\n",
      " 3   B-V          3642 non-null   float64\n",
      " 4   SpType       3642 non-null   object \n",
      " 5   Amag         3642 non-null   float64\n",
      " 6   TargetClass  3642 non-null   int64  \n",
      "dtypes: float64(5), int64(1), object(1)\n",
      "memory usage: 199.3+ KB\n"
     ]
    }
   ],
   "source": [
    "df.info()"
   ]
  },
  {
   "cell_type": "code",
   "execution_count": 238,
   "id": "6d82884f",
   "metadata": {},
   "outputs": [
    {
     "data": {
      "text/plain": [
       "K0III          293\n",
       "K1III          200\n",
       "K2III          156\n",
       "G8III          135\n",
       "F5V            125\n",
       "              ... \n",
       "B9.5IV           1\n",
       "B0Ibp            1\n",
       "M0V              1\n",
       "B1Vv SB          1\n",
       "M0/M1IIICNp      1\n",
       "Name: SpType, Length: 584, dtype: int64"
      ]
     },
     "execution_count": 238,
     "metadata": {},
     "output_type": "execute_result"
    }
   ],
   "source": [
    "df['SpType'].value_counts(ascending=False)"
   ]
  },
  {
   "cell_type": "code",
   "execution_count": 239,
   "id": "0d74aad5",
   "metadata": {},
   "outputs": [
    {
     "data": {
      "text/plain": [
       "584"
      ]
     },
     "execution_count": 239,
     "metadata": {},
     "output_type": "execute_result"
    }
   ],
   "source": [
    "len(list(set(df['SpType'])))"
   ]
  },
  {
   "cell_type": "code",
   "execution_count": 240,
   "id": "c75f6e43",
   "metadata": {},
   "outputs": [],
   "source": [
    "from sklearn.preprocessing import LabelEncoder , StandardScaler\n",
    "encoder = LabelEncoder()"
   ]
  },
  {
   "cell_type": "code",
   "execution_count": 241,
   "id": "ff92fc3b",
   "metadata": {},
   "outputs": [
    {
     "data": {
      "text/html": [
       "<div>\n",
       "<style scoped>\n",
       "    .dataframe tbody tr th:only-of-type {\n",
       "        vertical-align: middle;\n",
       "    }\n",
       "\n",
       "    .dataframe tbody tr th {\n",
       "        vertical-align: top;\n",
       "    }\n",
       "\n",
       "    .dataframe thead th {\n",
       "        text-align: right;\n",
       "    }\n",
       "</style>\n",
       "<table border=\"1\" class=\"dataframe\">\n",
       "  <thead>\n",
       "    <tr style=\"text-align: right;\">\n",
       "      <th></th>\n",
       "      <th>Vmag</th>\n",
       "      <th>Plx</th>\n",
       "      <th>e_Plx</th>\n",
       "      <th>B-V</th>\n",
       "      <th>Amag</th>\n",
       "    </tr>\n",
       "  </thead>\n",
       "  <tbody>\n",
       "    <tr>\n",
       "      <th>0</th>\n",
       "      <td>5.99</td>\n",
       "      <td>13.73</td>\n",
       "      <td>0.58</td>\n",
       "      <td>1.318</td>\n",
       "      <td>16.678352</td>\n",
       "    </tr>\n",
       "    <tr>\n",
       "      <th>1</th>\n",
       "      <td>8.70</td>\n",
       "      <td>2.31</td>\n",
       "      <td>1.29</td>\n",
       "      <td>-0.045</td>\n",
       "      <td>15.518060</td>\n",
       "    </tr>\n",
       "    <tr>\n",
       "      <th>2</th>\n",
       "      <td>5.77</td>\n",
       "      <td>5.50</td>\n",
       "      <td>1.03</td>\n",
       "      <td>0.855</td>\n",
       "      <td>14.471813</td>\n",
       "    </tr>\n",
       "    <tr>\n",
       "      <th>3</th>\n",
       "      <td>6.72</td>\n",
       "      <td>5.26</td>\n",
       "      <td>0.74</td>\n",
       "      <td>-0.015</td>\n",
       "      <td>15.324928</td>\n",
       "    </tr>\n",
       "    <tr>\n",
       "      <th>4</th>\n",
       "      <td>8.76</td>\n",
       "      <td>13.44</td>\n",
       "      <td>1.16</td>\n",
       "      <td>0.584</td>\n",
       "      <td>19.401997</td>\n",
       "    </tr>\n",
       "  </tbody>\n",
       "</table>\n",
       "</div>"
      ],
      "text/plain": [
       "   Vmag    Plx  e_Plx    B-V       Amag\n",
       "0  5.99  13.73   0.58  1.318  16.678352\n",
       "1  8.70   2.31   1.29 -0.045  15.518060\n",
       "2  5.77   5.50   1.03  0.855  14.471813\n",
       "3  6.72   5.26   0.74 -0.015  15.324928\n",
       "4  8.76  13.44   1.16  0.584  19.401997"
      ]
     },
     "execution_count": 241,
     "metadata": {},
     "output_type": "execute_result"
    }
   ],
   "source": [
    "label = df['TargetClass']\n",
    "sptype = df['SpType']\n",
    "df= df.drop(['SpType','TargetClass'],axis=1)\n",
    "df.head()"
   ]
  },
  {
   "cell_type": "code",
   "execution_count": 242,
   "id": "bf42033b",
   "metadata": {},
   "outputs": [
    {
     "data": {
      "text/html": [
       "<div>\n",
       "<style scoped>\n",
       "    .dataframe tbody tr th:only-of-type {\n",
       "        vertical-align: middle;\n",
       "    }\n",
       "\n",
       "    .dataframe tbody tr th {\n",
       "        vertical-align: top;\n",
       "    }\n",
       "\n",
       "    .dataframe thead th {\n",
       "        text-align: right;\n",
       "    }\n",
       "</style>\n",
       "<table border=\"1\" class=\"dataframe\">\n",
       "  <thead>\n",
       "    <tr style=\"text-align: right;\">\n",
       "      <th></th>\n",
       "      <th>Vmag</th>\n",
       "      <th>Plx</th>\n",
       "      <th>e_Plx</th>\n",
       "      <th>B-V</th>\n",
       "      <th>Amag</th>\n",
       "      <th>sptype</th>\n",
       "    </tr>\n",
       "  </thead>\n",
       "  <tbody>\n",
       "    <tr>\n",
       "      <th>370</th>\n",
       "      <td>8.48</td>\n",
       "      <td>0.95</td>\n",
       "      <td>1.03</td>\n",
       "      <td>1.461</td>\n",
       "      <td>13.368618</td>\n",
       "      <td>474</td>\n",
       "    </tr>\n",
       "    <tr>\n",
       "      <th>2763</th>\n",
       "      <td>9.09</td>\n",
       "      <td>5.75</td>\n",
       "      <td>1.22</td>\n",
       "      <td>0.379</td>\n",
       "      <td>17.888340</td>\n",
       "      <td>226</td>\n",
       "    </tr>\n",
       "    <tr>\n",
       "      <th>309</th>\n",
       "      <td>6.85</td>\n",
       "      <td>8.21</td>\n",
       "      <td>0.91</td>\n",
       "      <td>1.028</td>\n",
       "      <td>16.421715</td>\n",
       "      <td>389</td>\n",
       "    </tr>\n",
       "    <tr>\n",
       "      <th>2595</th>\n",
       "      <td>7.94</td>\n",
       "      <td>9.03</td>\n",
       "      <td>1.29</td>\n",
       "      <td>0.392</td>\n",
       "      <td>17.718440</td>\n",
       "      <td>224</td>\n",
       "    </tr>\n",
       "    <tr>\n",
       "      <th>451</th>\n",
       "      <td>7.04</td>\n",
       "      <td>2.90</td>\n",
       "      <td>0.84</td>\n",
       "      <td>1.428</td>\n",
       "      <td>14.351990</td>\n",
       "      <td>515</td>\n",
       "    </tr>\n",
       "    <tr>\n",
       "      <th>2468</th>\n",
       "      <td>9.15</td>\n",
       "      <td>5.75</td>\n",
       "      <td>1.40</td>\n",
       "      <td>0.537</td>\n",
       "      <td>17.948340</td>\n",
       "      <td>244</td>\n",
       "    </tr>\n",
       "    <tr>\n",
       "      <th>1866</th>\n",
       "      <td>5.52</td>\n",
       "      <td>57.63</td>\n",
       "      <td>0.64</td>\n",
       "      <td>0.551</td>\n",
       "      <td>19.323244</td>\n",
       "      <td>283</td>\n",
       "    </tr>\n",
       "    <tr>\n",
       "      <th>1966</th>\n",
       "      <td>9.36</td>\n",
       "      <td>19.65</td>\n",
       "      <td>1.47</td>\n",
       "      <td>0.928</td>\n",
       "      <td>20.826813</td>\n",
       "      <td>496</td>\n",
       "    </tr>\n",
       "    <tr>\n",
       "      <th>1042</th>\n",
       "      <td>8.68</td>\n",
       "      <td>17.32</td>\n",
       "      <td>1.19</td>\n",
       "      <td>0.638</td>\n",
       "      <td>19.872740</td>\n",
       "      <td>320</td>\n",
       "    </tr>\n",
       "    <tr>\n",
       "      <th>3228</th>\n",
       "      <td>8.34</td>\n",
       "      <td>4.09</td>\n",
       "      <td>1.16</td>\n",
       "      <td>1.140</td>\n",
       "      <td>16.398617</td>\n",
       "      <td>462</td>\n",
       "    </tr>\n",
       "  </tbody>\n",
       "</table>\n",
       "</div>"
      ],
      "text/plain": [
       "      Vmag    Plx  e_Plx    B-V       Amag  sptype\n",
       "370   8.48   0.95   1.03  1.461  13.368618     474\n",
       "2763  9.09   5.75   1.22  0.379  17.888340     226\n",
       "309   6.85   8.21   0.91  1.028  16.421715     389\n",
       "2595  7.94   9.03   1.29  0.392  17.718440     224\n",
       "451   7.04   2.90   0.84  1.428  14.351990     515\n",
       "2468  9.15   5.75   1.40  0.537  17.948340     244\n",
       "1866  5.52  57.63   0.64  0.551  19.323244     283\n",
       "1966  9.36  19.65   1.47  0.928  20.826813     496\n",
       "1042  8.68  17.32   1.19  0.638  19.872740     320\n",
       "3228  8.34   4.09   1.16  1.140  16.398617     462"
      ]
     },
     "execution_count": 242,
     "metadata": {},
     "output_type": "execute_result"
    }
   ],
   "source": [
    "encoded_sptype = pd.DataFrame(encoder.fit_transform(sptype),columns=['sptype'])\n",
    "new_df = pd.concat([df,encoded_sptype],axis=1)\n",
    "new_df.sample(10)"
   ]
  },
  {
   "cell_type": "code",
   "execution_count": 243,
   "id": "ba75e188",
   "metadata": {},
   "outputs": [
    {
     "data": {
      "text/html": [
       "<div>\n",
       "<style scoped>\n",
       "    .dataframe tbody tr th:only-of-type {\n",
       "        vertical-align: middle;\n",
       "    }\n",
       "\n",
       "    .dataframe tbody tr th {\n",
       "        vertical-align: top;\n",
       "    }\n",
       "\n",
       "    .dataframe thead th {\n",
       "        text-align: right;\n",
       "    }\n",
       "</style>\n",
       "<table border=\"1\" class=\"dataframe\">\n",
       "  <thead>\n",
       "    <tr style=\"text-align: right;\">\n",
       "      <th></th>\n",
       "      <th>Vmag</th>\n",
       "      <th>Plx</th>\n",
       "      <th>e_Plx</th>\n",
       "      <th>B-V</th>\n",
       "      <th>Amag</th>\n",
       "      <th>sptype</th>\n",
       "    </tr>\n",
       "  </thead>\n",
       "  <tbody>\n",
       "    <tr>\n",
       "      <th>count</th>\n",
       "      <td>3.642000e+03</td>\n",
       "      <td>3.642000e+03</td>\n",
       "      <td>3.642000e+03</td>\n",
       "      <td>3.642000e+03</td>\n",
       "      <td>3.642000e+03</td>\n",
       "      <td>3.642000e+03</td>\n",
       "    </tr>\n",
       "    <tr>\n",
       "      <th>mean</th>\n",
       "      <td>-7.480745e-16</td>\n",
       "      <td>1.013589e-17</td>\n",
       "      <td>-6.209948e-17</td>\n",
       "      <td>1.048646e-17</td>\n",
       "      <td>1.047487e-15</td>\n",
       "      <td>5.423083e-17</td>\n",
       "    </tr>\n",
       "    <tr>\n",
       "      <th>std</th>\n",
       "      <td>1.000137e+00</td>\n",
       "      <td>1.000137e+00</td>\n",
       "      <td>1.000137e+00</td>\n",
       "      <td>1.000137e+00</td>\n",
       "      <td>1.000137e+00</td>\n",
       "      <td>1.000137e+00</td>\n",
       "    </tr>\n",
       "    <tr>\n",
       "      <th>min</th>\n",
       "      <td>-5.729871e+00</td>\n",
       "      <td>-1.210003e+00</td>\n",
       "      <td>-7.681151e-01</td>\n",
       "      <td>-2.343073e+00</td>\n",
       "      <td>-5.604798e+00</td>\n",
       "      <td>-2.450110e+00</td>\n",
       "    </tr>\n",
       "    <tr>\n",
       "      <th>25%</th>\n",
       "      <td>-5.606444e-01</td>\n",
       "      <td>-4.081516e-01</td>\n",
       "      <td>-3.658854e-01</td>\n",
       "      <td>-7.782791e-01</td>\n",
       "      <td>-5.260197e-01</td>\n",
       "      <td>-7.221359e-01</td>\n",
       "    </tr>\n",
       "    <tr>\n",
       "      <th>50%</th>\n",
       "      <td>2.012936e-01</td>\n",
       "      <td>-2.227865e-01</td>\n",
       "      <td>-1.484639e-01</td>\n",
       "      <td>9.143281e-02</td>\n",
       "      <td>-1.437642e-02</td>\n",
       "      <td>2.055878e-01</td>\n",
       "    </tr>\n",
       "    <tr>\n",
       "      <th>75%</th>\n",
       "      <td>7.017823e-01</td>\n",
       "      <td>8.923081e-02</td>\n",
       "      <td>1.015708e-01</td>\n",
       "      <td>7.075026e-01</td>\n",
       "      <td>6.600385e-01</td>\n",
       "      <td>8.217097e-01</td>\n",
       "    </tr>\n",
       "    <tr>\n",
       "      <th>max</th>\n",
       "      <td>3.263986e+00</td>\n",
       "      <td>2.286985e+01</td>\n",
       "      <td>3.164943e+01</td>\n",
       "      <td>3.900072e+00</td>\n",
       "      <td>5.281210e+00</td>\n",
       "      <td>1.678615e+00</td>\n",
       "    </tr>\n",
       "  </tbody>\n",
       "</table>\n",
       "</div>"
      ],
      "text/plain": [
       "               Vmag           Plx         e_Plx           B-V          Amag  \\\n",
       "count  3.642000e+03  3.642000e+03  3.642000e+03  3.642000e+03  3.642000e+03   \n",
       "mean  -7.480745e-16  1.013589e-17 -6.209948e-17  1.048646e-17  1.047487e-15   \n",
       "std    1.000137e+00  1.000137e+00  1.000137e+00  1.000137e+00  1.000137e+00   \n",
       "min   -5.729871e+00 -1.210003e+00 -7.681151e-01 -2.343073e+00 -5.604798e+00   \n",
       "25%   -5.606444e-01 -4.081516e-01 -3.658854e-01 -7.782791e-01 -5.260197e-01   \n",
       "50%    2.012936e-01 -2.227865e-01 -1.484639e-01  9.143281e-02 -1.437642e-02   \n",
       "75%    7.017823e-01  8.923081e-02  1.015708e-01  7.075026e-01  6.600385e-01   \n",
       "max    3.263986e+00  2.286985e+01  3.164943e+01  3.900072e+00  5.281210e+00   \n",
       "\n",
       "             sptype  \n",
       "count  3.642000e+03  \n",
       "mean   5.423083e-17  \n",
       "std    1.000137e+00  \n",
       "min   -2.450110e+00  \n",
       "25%   -7.221359e-01  \n",
       "50%    2.055878e-01  \n",
       "75%    8.217097e-01  \n",
       "max    1.678615e+00  "
      ]
     },
     "execution_count": 243,
     "metadata": {},
     "output_type": "execute_result"
    }
   ],
   "source": [
    "scaler = StandardScaler()\n",
    "scaled_df = pd.DataFrame(scaler.fit_transform(new_df),columns=new_df.columns)\n",
    "scaled_df.describe()"
   ]
  },
  {
   "cell_type": "code",
   "execution_count": 244,
   "id": "87b590dc",
   "metadata": {},
   "outputs": [
    {
     "name": "stdout",
     "output_type": "stream",
     "text": [
      "2913\n",
      "2913\n",
      "729\n",
      "729\n"
     ]
    }
   ],
   "source": [
    "from sklearn.model_selection import train_test_split\n",
    "xtr, xts , ytr , yts = train_test_split(scaled_df,label,test_size=0.2,random_state=42)\n",
    "print(len(xtr))\n",
    "print(len(ytr))\n",
    "print(len(xts))\n",
    "print(len(yts))"
   ]
  },
  {
   "cell_type": "code",
   "execution_count": 245,
   "id": "091872d4",
   "metadata": {},
   "outputs": [
    {
     "data": {
      "text/plain": [
       "100.0"
      ]
     },
     "execution_count": 245,
     "metadata": {},
     "output_type": "execute_result"
    }
   ],
   "source": [
    "from sklearn.ensemble import ExtraTreesClassifier\n",
    "alg = ExtraTreesClassifier().fit(xtr,ytr)\n",
    "alg.score(xtr,ytr)*100"
   ]
  },
  {
   "cell_type": "code",
   "execution_count": 246,
   "id": "e1f62512",
   "metadata": {},
   "outputs": [
    {
     "data": {
      "text/plain": [
       "90.6721536351166"
      ]
     },
     "execution_count": 246,
     "metadata": {},
     "output_type": "execute_result"
    }
   ],
   "source": [
    "alg.score(xts,yts)*100"
   ]
  },
  {
   "cell_type": "code",
   "execution_count": 247,
   "id": "c4f6420c",
   "metadata": {},
   "outputs": [
    {
     "data": {
      "text/plain": [
       "98.13289401427787"
      ]
     },
     "execution_count": 247,
     "metadata": {},
     "output_type": "execute_result"
    }
   ],
   "source": [
    "alg.score(scaled_df,label)*100"
   ]
  },
  {
   "cell_type": "code",
   "execution_count": 248,
   "id": "b13db355",
   "metadata": {},
   "outputs": [
    {
     "data": {
      "text/plain": [
       "0"
      ]
     },
     "execution_count": 248,
     "metadata": {},
     "output_type": "execute_result"
    }
   ],
   "source": [
    "bad_result = 0\n",
    "for i in range(10):\n",
    "    xtr, xts , ytr , yts = train_test_split(scaled_df,label,test_size=0.2,shuffle=True)\n",
    "    alg = ExtraTreesClassifier().fit(xtr,ytr)\n",
    "    test = (alg.score(xts,yts)*100) - (alg.score(scaled_df,label)*100)\n",
    "    if test>15 :\n",
    "        bad_result+=1\n",
    "bad_result"
   ]
  },
  {
   "cell_type": "code",
   "execution_count": null,
   "id": "5870dd19",
   "metadata": {},
   "outputs": [],
   "source": []
  }
 ],
 "metadata": {
  "kernelspec": {
   "display_name": "Python 3 (ipykernel)",
   "language": "python",
   "name": "python3"
  },
  "language_info": {
   "codemirror_mode": {
    "name": "ipython",
    "version": 3
   },
   "file_extension": ".py",
   "mimetype": "text/x-python",
   "name": "python",
   "nbconvert_exporter": "python",
   "pygments_lexer": "ipython3",
   "version": "3.9.13"
  }
 },
 "nbformat": 4,
 "nbformat_minor": 5
}
